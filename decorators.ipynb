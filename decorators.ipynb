{
 "cells": [
  {
   "cell_type": "markdown",
   "metadata": {},
   "source": [
    "# Python decorators\n",
    "\n",
    "Some examples from realpyhthon tutorial:\n",
    "\n",
    "https://realpython.com/primer-on-python-decorators/\n"
   ]
  },
  {
   "cell_type": "markdown",
   "metadata": {},
   "source": [
    "Functions can be passed as parameters to other functions (first class functions)."
   ]
  },
  {
   "cell_type": "code",
   "execution_count": 10,
   "metadata": {},
   "outputs": [
    {
     "name": "stdout",
     "output_type": "stream",
     "text": [
      "Hello Joe!\n",
      "Happy birthday, Joe!\n"
     ]
    }
   ],
   "source": [
    "def hello(name: str) -> str:\n",
    "    return(f\"Hello {name}!\")\n",
    "\n",
    "def birthday(name: str) -> str:\n",
    "    return(f\"Happy birthday, {name}!\")\n",
    "\n",
    "# This function takes a function as parameter\n",
    "def hello_joe(greeter_func):\n",
    "    return greeter_func(\"Joe\")\n",
    "\n",
    "# Call function passing hello and birthday functions as parameters    \n",
    "print(f\"{hello_joe(hello)}\")\n",
    "print(f\"{hello_joe(birthday)}\")"
   ]
  },
  {
   "cell_type": "markdown",
   "metadata": {},
   "source": [
    "Inner functions can be returned from its enclosing function."
   ]
  },
  {
   "cell_type": "code",
   "execution_count": 17,
   "metadata": {},
   "outputs": [
    {
     "name": "stdout",
     "output_type": "stream",
     "text": [
      "Calling f1: Inner function inner_1\n",
      "Calling f2: Inner function inner_2\n"
     ]
    }
   ],
   "source": [
    "# Return either of the inner functions\n",
    "def outer_func(num):\n",
    "    def inner_1():\n",
    "        return \"Inner function inner_1\"\n",
    "    \n",
    "    def inner_2():\n",
    "        return \"Inner function inner_2\"\n",
    "    \n",
    "    if num == 1:\n",
    "        return inner_1\n",
    "    else:\n",
    "        return inner_2\n",
    "    \n",
    "f1 = outer_func(1)\n",
    "f2 = outer_func(2)\n",
    "print(f\"Calling f1: {f1()}\")\n",
    "print(f\"Calling f2: {f2()}\")"
   ]
  },
  {
   "cell_type": "code",
   "execution_count": 12,
   "metadata": {},
   "outputs": [
    {
     "data": {
      "text/plain": [
       "<function __main__.outer_func.<locals>.inner_1()>"
      ]
     },
     "execution_count": 12,
     "metadata": {},
     "output_type": "execute_result"
    }
   ],
   "source": [
    "# See what f1 references\n",
    "f1"
   ]
  },
  {
   "cell_type": "code",
   "execution_count": 13,
   "metadata": {},
   "outputs": [
    {
     "data": {
      "text/plain": [
       "<function __main__.outer_func.<locals>.inner_2()>"
      ]
     },
     "execution_count": 13,
     "metadata": {},
     "output_type": "execute_result"
    }
   ],
   "source": [
    "# See what f2 references\n",
    "f2"
   ]
  },
  {
   "cell_type": "markdown",
   "metadata": {},
   "source": [
    "## Getting started with decorator functions\n",
    "\n",
    "Here is a decorator function defining an inner wrapper function."
   ]
  },
  {
   "cell_type": "code",
   "execution_count": 19,
   "metadata": {},
   "outputs": [
    {
     "data": {
      "text/plain": [
       "<function __main__.decorator.<locals>.wrapper()>"
      ]
     },
     "execution_count": 19,
     "metadata": {},
     "output_type": "execute_result"
    }
   ],
   "source": [
    "def decorator (func):\n",
    "    def wrapper():\n",
    "        print(\"Before calling the function passed...\")\n",
    "        func()\n",
    "        print(\"After calling the function passed\")\n",
    "        \n",
    "    return wrapper\n",
    "\n",
    "def hello():\n",
    "    print(\"Hello wrapper\")\n",
    "   \n",
    "# Hello will now reference the wrapper function \n",
    "hello = decorator(hello)\n",
    "hello"
   ]
  },
  {
   "cell_type": "code",
   "execution_count": 20,
   "metadata": {},
   "outputs": [
    {
     "name": "stdout",
     "output_type": "stream",
     "text": [
      "Before calling the function passed...\n",
      "Hello wrapper\n",
      "After calling the function passed\n"
     ]
    }
   ],
   "source": [
    "# Call the function to see the effect of the above\n",
    "hello()"
   ]
  },
  {
   "cell_type": "markdown",
   "metadata": {},
   "source": [
    "The above pattern is simplified using the @ symbol. The following does excactly the same as the code above."
   ]
  },
  {
   "cell_type": "code",
   "execution_count": 22,
   "metadata": {},
   "outputs": [
    {
     "name": "stdout",
     "output_type": "stream",
     "text": [
      "pie_decorator: Something is happening before the function is called.\n",
      "Whee!\n",
      "pie_decorator: Something is happening after the function is called.\n"
     ]
    }
   ],
   "source": [
    "def pie_decorator(func):\n",
    "    def wrapper():\n",
    "        print(\"pie_decorator: Something is happening before the function is called.\")\n",
    "        func()\n",
    "        print(\"pie_decorator: Something is happening after the function is called.\")\n",
    "    return wrapper\n",
    "\n",
    "@pie_decorator\n",
    "def say_whee():\n",
    "    print(\"Whee!\")\n",
    "    \n",
    "say_whee()"
   ]
  },
  {
   "cell_type": "markdown",
   "metadata": {},
   "source": [
    "Notice the convention naming the wrapper function such that the suffix is the name of the decorator function (do_twice)."
   ]
  },
  {
   "cell_type": "code",
   "execution_count": 23,
   "metadata": {},
   "outputs": [
    {
     "name": "stdout",
     "output_type": "stream",
     "text": [
      "Hello\n",
      "Hello\n"
     ]
    }
   ],
   "source": [
    "def do_twice(func):\n",
    "    def wrapper_do_twice():\n",
    "        func()\n",
    "        func()\n",
    "    return wrapper_do_twice\n",
    "\n",
    "@do_twice\n",
    "def say_hello():\n",
    "    print(\"Hello\")\n",
    "    \n",
    "say_hello()"
   ]
  }
 ],
 "metadata": {
  "kernelspec": {
   "display_name": ".venv",
   "language": "python",
   "name": "python3"
  },
  "language_info": {
   "codemirror_mode": {
    "name": "ipython",
    "version": 3
   },
   "file_extension": ".py",
   "mimetype": "text/x-python",
   "name": "python",
   "nbconvert_exporter": "python",
   "pygments_lexer": "ipython3",
   "version": "3.12.0"
  }
 },
 "nbformat": 4,
 "nbformat_minor": 2
}
