{
 "cells": [
  {
   "cell_type": "markdown",
   "metadata": {},
   "source": [
    "# Python decorators\n",
    "\n",
    "Some examples from realpyhthon tutorial:\n",
    "\n",
    "https://realpython.com/primer-on-python-decorators/\n"
   ]
  },
  {
   "cell_type": "markdown",
   "metadata": {},
   "source": [
    "Functions can be passed as parameters to other functions (first class functions)."
   ]
  },
  {
   "cell_type": "code",
   "execution_count": 8,
   "metadata": {},
   "outputs": [
    {
     "name": "stdout",
     "output_type": "stream",
     "text": [
      "Hello Joe!\n",
      "Happy birthday, Joe!\n"
     ]
    }
   ],
   "source": [
    "def hello(name: str) -> str:\n",
    "    return(f\"Hello {name}!\")\n",
    "\n",
    "def birthday(name: str) -> str:\n",
    "    return(f\"Happy birthday, {name}!\")\n",
    "\n",
    "# This function takes a function as parameter\n",
    "def hello_joe(greeter_func):\n",
    "    return greeter_func(\"Joe\")\n",
    "\n",
    "# Call function passing hello and birthday functions as parameters    \n",
    "print(f\"{hello_joe(hello)}\")\n",
    "print(f\"{hello_joe(birthday)}\")"
   ]
  },
  {
   "cell_type": "markdown",
   "metadata": {},
   "source": [
    "Inner functions can be returned from its enclosing function."
   ]
  },
  {
   "cell_type": "code",
   "execution_count": 9,
   "metadata": {},
   "outputs": [
    {
     "name": "stdout",
     "output_type": "stream",
     "text": [
      "Calling f1: Inner function inner_1\n",
      "Calling f2: Inner function inner_2\n"
     ]
    }
   ],
   "source": [
    "# Return either of the inner functions\n",
    "def outer_func(num):\n",
    "    def inner_1():\n",
    "        return \"Inner function inner_1\"\n",
    "    \n",
    "    def inner_2():\n",
    "        return \"Inner function inner_2\"\n",
    "    \n",
    "    if num == 1:\n",
    "        return inner_1\n",
    "    else:\n",
    "        return inner_2\n",
    "    \n",
    "f1 = outer_func(1)\n",
    "f2 = outer_func(2)\n",
    "print(f\"Calling f1: {f1()}\")\n",
    "print(f\"Calling f2: {f2()}\")"
   ]
  }
 ],
 "metadata": {
  "kernelspec": {
   "display_name": ".venv",
   "language": "python",
   "name": "python3"
  },
  "language_info": {
   "codemirror_mode": {
    "name": "ipython",
    "version": 3
   },
   "file_extension": ".py",
   "mimetype": "text/x-python",
   "name": "python",
   "nbconvert_exporter": "python",
   "pygments_lexer": "ipython3",
   "version": "3.12.0"
  }
 },
 "nbformat": 4,
 "nbformat_minor": 2
}
