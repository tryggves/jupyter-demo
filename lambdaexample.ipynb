{
 "cells": [
  {
   "cell_type": "markdown",
   "metadata": {},
   "source": [
    "# Python lambda expression\n",
    "Here are exmples of lambda expressions.\n",
    "\n",
    "Tried to find some good use cases query ChatGPT:\n",
    "\n",
    "Lambda expressions in Python are primarily used for creating small, anonymous functions. They are often employed in situations where a function is needed for a short period of time, typically to be passed as an argument to higher-order functions (functions that take other functions as arguments).\n",
    "- Lambda used for map() executing the same function for each item in an interable.\n",
    "- Lambda used for filter() executing a logical expression for each item in an interable."
   ]
  },
  {
   "cell_type": "markdown",
   "metadata": {},
   "source": [
    "Follwing are examples of map() and filter()"
   ]
  },
  {
   "cell_type": "code",
   "execution_count": 1,
   "metadata": {},
   "outputs": [
    {
     "name": "stdout",
     "output_type": "stream",
     "text": [
      "my_list=[0, 1, 2, 3, 4, 5, 6, 7, 8, 9]\n"
     ]
    }
   ],
   "source": [
    "\n",
    "# This is a list comprehension \n",
    "my_list=[x for x in range(10)]\n",
    "print(f\"my_list={my_list}\")"
   ]
  },
  {
   "cell_type": "code",
   "execution_count": 2,
   "metadata": {},
   "outputs": [
    {
     "name": "stdout",
     "output_type": "stream",
     "text": [
      "double_list=[0, 2, 4, 6, 8, 10, 12, 14, 16, 18]\n",
      "triple_list=[0, 3, 6, 9, 12, 15, 18, 21, 24, 27]\n"
     ]
    }
   ],
   "source": [
    "# Lambda expression used in map()\n",
    "double_list = list(map(lambda x: x*2, my_list))\n",
    "print(f\"double_list={double_list}\")\n",
    "triple_list=list(map(lambda x: x*3, my_list))\n",
    "print(f\"triple_list={triple_list}\")"
   ]
  },
  {
   "cell_type": "code",
   "execution_count": 3,
   "metadata": {},
   "outputs": [
    {
     "name": "stdout",
     "output_type": "stream",
     "text": [
      "filter even numbers of candidate_list: [0, 2, 4, 6, 8]\n",
      "filter odd numbers of candidate_list: [1, 3, 5, 7, 9]\n",
      "filter even numbers of candidate_list: [0, 2, 4, 6, 8, 10, 12, 14, 16, 18]\n",
      "filter odd numbers of candidate_list: []\n",
      "filter even numbers of candidate_list: [0, 6, 12, 18, 24]\n",
      "filter odd numbers of candidate_list: [3, 9, 15, 21, 27]\n"
     ]
    }
   ],
   "source": [
    "# Lambda expression used in filter()\n",
    "# list_of_lists contains the lists from above.\n",
    "list_of_lists=[my_list, double_list, triple_list]\n",
    "for candidate_list in list_of_lists:\n",
    "    filter_list = list(filter(lambda x: x % 2 == 0, candidate_list))\n",
    "    print(f\"filter even numbers of candidate_list: {filter_list}\")\n",
    "    filter_list = list(filter(lambda x: x % 2 == 1, candidate_list))\n",
    "    print(f\"filter odd numbers of candidate_list: {filter_list}\")\n"
   ]
  }
 ],
 "metadata": {
  "kernelspec": {
   "display_name": "Python 3",
   "language": "python",
   "name": "python3"
  },
  "language_info": {
   "codemirror_mode": {
    "name": "ipython",
    "version": 3
   },
   "file_extension": ".py",
   "mimetype": "text/x-python",
   "name": "python",
   "nbconvert_exporter": "python",
   "pygments_lexer": "ipython3",
   "version": "3.12.0"
  }
 },
 "nbformat": 4,
 "nbformat_minor": 2
}
